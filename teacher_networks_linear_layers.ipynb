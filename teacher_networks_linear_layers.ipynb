{
  "cells": [
    {
      "cell_type": "markdown",
      "metadata": {
        "id": "b0dNj42TmxWh"
      },
      "source": [
        "# imports"
      ]
    },
    {
      "cell_type": "code",
      "execution_count": 1,
      "metadata": {
        "id": "UGUscdc-l8A0"
      },
      "outputs": [],
      "source": [
        "import torch\n",
        "import torch.nn.functional as F\n",
        "from torch import nn\n",
        "import numpy as np\n",
        "import matplotlib.pylab as plt\n",
        "from scipy.stats import ortho_group\n",
        "from scipy.stats import linregress\n",
        "import torch.multiprocessing as mp\n",
        "import queue\n",
        "import time\n",
        "from torch.optim.lr_scheduler import ExponentialLR, CosineAnnealingWarmRestarts, SequentialLR, MultiStepLR\n",
        "import logging"
      ]
    },
    {
      "cell_type": "code",
      "source": [
        "from google.colab import drive\n",
        "drive.mount('/content/gdrive')"
      ],
      "metadata": {
        "colab": {
          "base_uri": "https://localhost:8080/"
        },
        "id": "gx2VIx954ceg",
        "outputId": "a18da4df-85e9-4eca-bd9f-ce06540d1a28"
      },
      "execution_count": 2,
      "outputs": [
        {
          "output_type": "stream",
          "name": "stdout",
          "text": [
            "Drive already mounted at /content/gdrive; to attempt to forcibly remount, call drive.mount(\"/content/gdrive\", force_remount=True).\n"
          ]
        }
      ]
    },
    {
      "cell_type": "markdown",
      "metadata": {
        "id": "EYgKY0XamwXl"
      },
      "source": [
        "# helper funcs for training"
      ]
    },
    {
      "cell_type": "markdown",
      "metadata": {
        "id": "s-DgRMVoySyi"
      },
      "source": [
        "## single epoch training func"
      ]
    },
    {
      "cell_type": "code",
      "execution_count": 3,
      "metadata": {
        "id": "ZOuxF1IcmNQE"
      },
      "outputs": [],
      "source": [
        "def train(dataloader, model, loss_fn, optimizer):\n",
        "    \"\"\"\n",
        "    trains one epoch\n",
        "    \"\"\"\n",
        "    size = len(dataloader.dataset)\n",
        "    for batch, (X, y) in enumerate(dataloader):\n",
        "        #Compute prediction and loss\n",
        "        pred = model(X)\n",
        "        loss = loss_fn(pred.flatten(), y)\n",
        "\n",
        "        #Backpropagation\n",
        "        optimizer.zero_grad()\n",
        "        loss.backward()\n",
        "        optimizer.step()\n"
      ]
    },
    {
      "cell_type": "markdown",
      "metadata": {
        "id": "V01IuO8_yVvF"
      },
      "source": [
        "## helper functions for weight decay only on weights, not on biases"
      ]
    },
    {
      "cell_type": "code",
      "execution_count": 4,
      "metadata": {
        "id": "5Ru0YuJ7yJ0d"
      },
      "outputs": [],
      "source": [
        "def add_weight_decay(model, weight_decay, skip_list=()):\n",
        "    decay = []\n",
        "    no_decay = []\n",
        "    for name, param in model.named_parameters():\n",
        "        if not param.requires_grad:\n",
        "            continue  #frozen weights\n",
        "        if len(param.shape) == 1 or name.endswith(\".bias\") or name in skip_list:\n",
        "            no_decay.append(param)\n",
        "        else:\n",
        "            decay.append(param)\n",
        "    return [\n",
        "        {'params': no_decay, 'weight_decay': 0.},\n",
        "        {'params': decay, 'weight_decay': weight_decay}]\n"
      ]
    },
    {
      "cell_type": "code",
      "execution_count": 5,
      "metadata": {
        "id": "pznyimU5yLqa"
      },
      "outputs": [],
      "source": [
        "def weight_decay_val(paramlist):\n",
        "    \"\"\"\n",
        "    computes the value of the weight decay term after an epoch\n",
        "    \"\"\"\n",
        "    sum = 0.\n",
        "    for weight in paramlist[1]['params']:\n",
        "        with torch.no_grad():\n",
        "            sum += (weight**2).sum()\n",
        "    return sum.item()\n"
      ]
    },
    {
      "cell_type": "markdown",
      "metadata": {
        "id": "qDtrjjMPya4Y"
      },
      "source": [
        "## data generation function"
      ]
    },
    {
      "cell_type": "code",
      "execution_count": 6,
      "metadata": {
        "id": "_LV9w55pyNYS"
      },
      "outputs": [],
      "source": [
        "def gen_data(datasetsize,r,seed,trainsize=2**18,testsize=2**10,d=20,funcseed=42,verbose=False,ood=False):\n",
        "    ##Generate data with a true central subspaces of varying dimensions\n",
        "    #generate X values for training and test sets\n",
        "    np.random.seed(seed) #set seed for data generation \n",
        "    trainX = np.random.rand(d,trainsize).astype(np.float32)[:,:datasetsize] - 0.5 #distributed as U[-1/2, 1/2]\n",
        "    testX = np.random.rand(d,testsize).astype(np.float32) - 0.5 #distributed as U[-1/2, 1/2]\n",
        "    #out of distribution datagen\n",
        "    if ood:\n",
        "      trainX *= 2 #now distributed as U[-1, 1]\n",
        "      testX *= 2 #now distributed as U[-1, 1]\n",
        "    ##for each $r$ value create and store data-gen functions and $y$ evaluations\n",
        "    #geneate params for functions\n",
        "    k = d+1\n",
        "    np.random.seed(funcseed) #set seed for random function generation\n",
        "    U = ortho_group.rvs(k)[:,:r]\n",
        "    Sigma = np.random.rand(r)*100\n",
        "    V = ortho_group.rvs(d)[:,:r]\n",
        "    W = (U * Sigma) @ V.T\n",
        "    A = np.random.randn(k)\n",
        "    B = np.random.randn(k)\n",
        "    #create functions\n",
        "    def g(z): #active subspace function\n",
        "        hidden_layer = (U*Sigma)@z\n",
        "        hidden_layer = hidden_layer.T + B\n",
        "        hidden_layer = np.maximum(0,hidden_layer).T\n",
        "        return A@hidden_layer\n",
        "    def f(x): #teacher network\n",
        "        z = V.T@x\n",
        "        return g(z)\n",
        "    #generate data\n",
        "    trainY = f(trainX).astype(np.float32)\n",
        "    testY = f(testX).astype(np.float32)\n",
        "    #move data to device\n",
        "    if verbose: \n",
        "        print(\"device: {}\".format(device))\n",
        "    trainX = torch.from_numpy(trainX).T.to(device)\n",
        "    trainY = torch.from_numpy(trainY).to(device)\n",
        "    testX = torch.from_numpy(testX).T.to(device)\n",
        "    testY = torch.from_numpy(testY).to(device)\n",
        "    if verbose: \n",
        "        print(\"trainX shape = {} trainY shape = {}\".format(\n",
        "            trainX.shape, \n",
        "            trainY.shape\n",
        "        ))\n",
        "    return trainX,trainY,testX,testY\n"
      ]
    },
    {
      "cell_type": "markdown",
      "metadata": {
        "id": "mVuRuI3syeOC"
      },
      "source": [
        "## model class"
      ]
    },
    {
      "cell_type": "code",
      "execution_count": 7,
      "metadata": {
        "id": "iD4PteD1yPrv"
      },
      "outputs": [],
      "source": [
        "def Llayers(L,d,width):\n",
        "    #construct L-1 linear layers; bias term only on last linear layer\n",
        "    if L < 2:\n",
        "        raise ValueError(\"L must be at least 2\")\n",
        "    if L == 2:\n",
        "        linear_layers = [nn.Linear(d,width,bias=True)]\n",
        "    if L > 2:\n",
        "        linear_layers = [nn.Linear(d,width,bias=False)]\n",
        "        for l in range(L-3):\n",
        "            linear_layers.append(nn.Linear(width,width,bias=False))\n",
        "        linear_layers.append(nn.Linear(width,width,bias=True))\n",
        "\n",
        "    relu = nn.ReLU()\n",
        "\n",
        "    last_layer = nn.Linear(width,1)\n",
        "\n",
        "    layers = linear_layers + [relu,last_layer]\n",
        "\n",
        "    return nn.Sequential(*layers)\n"
      ]
    },
    {
      "cell_type": "markdown",
      "metadata": {
        "id": "ebVoo9zdygNo"
      },
      "source": [
        "## full training function"
      ]
    },
    {
      "cell_type": "code",
      "execution_count": 8,
      "metadata": {
        "id": "Y-Gdr-tPyRFy"
      },
      "outputs": [],
      "source": [
        "#scheduler=MultiStepLR,milestones=[30_000], gamma=0.1\n",
        "def train_L_layers(datasetsize,L,r,weight_decay,epochs=30_100,lr=1e-4,\n",
        "                   trainsize=2**18,testsize=2**10,d=20,funcseed=42,datagenseed=1,\n",
        "                   initseed=42,batch_size=64,width=1000,verbose=False,\n",
        "                   no_wd_last_how_many_epochs=100,\n",
        "                   scheduler=None,**schedulerkwargs):\n",
        "    #start timer \n",
        "    starttime = time.time()\n",
        "\n",
        "    #generate data\n",
        "    trainX,trainY,testX,testY = gen_data(datasetsize,r,datagenseed,trainsize,testsize,d,funcseed,verbose)\n",
        "    \n",
        "    #define pytorch dataloaders\n",
        "    dataset = torch.utils.data.TensorDataset(trainX,trainY) #create your dataset\n",
        "    dataloader = torch.utils.data.DataLoader(dataset, batch_size=batch_size, shuffle=True) #create your dataloader\n",
        "\n",
        "    #initialize model    \n",
        "    torch.manual_seed(initseed) #set seed for initalization\n",
        "    model = Llayers(L,d,width)\n",
        "    model.to(device)\n",
        "    \n",
        "    model_parameters = filter(lambda p: p.requires_grad, model.parameters())\n",
        "    num_params = sum([np.prod(p.size()) for p in model_parameters])\n",
        "\n",
        "    loss_fn = nn.MSELoss()\n",
        "    paramlist = add_weight_decay(model,weight_decay)\n",
        "    optimizer = torch.optim.Adam(paramlist, lr=lr)\n",
        "\n",
        "    if verbose: \n",
        "        print(\"lambda = {}\".format(paramlist[1]['weight_decay']))\n",
        "\n",
        "    #main training loop\n",
        "    with torch.no_grad():\n",
        "        trainmse = torch.zeros(epochs,device=device)\n",
        "        weightdecay = torch.zeros(epochs,device=device)\n",
        "        learningrate = torch.zeros(epochs,device=device)\n",
        "    if verbose: \n",
        "        printfreq = 100 if datasetsize > 500 else 500\n",
        "    if verbose: \n",
        "        print(\"Time: {:.1f} Starting to Train\".format(\n",
        "            time.time()-starttime\n",
        "        ))\n",
        "    if scheduler is not None:\n",
        "        scheduler = scheduler(optimizer,**schedulerkwargs)\n",
        "    flag = False\n",
        "    for t in range(epochs):\n",
        "        train(dataloader, model, loss_fn, optimizer)\n",
        "        \n",
        "        with torch.no_grad():\n",
        "            #record current MSE, weight decay value, and learning rate\n",
        "            trainmse[t] = loss_fn(model(trainX).flatten(),trainY)\n",
        "            for param in model.parameters():\n",
        "                weightdecay[t] += weight_decay_val(paramlist)\n",
        "            if scheduler is not None:\n",
        "                learningrate[t] = scheduler.optimizer.param_groups[0]['lr']\n",
        "        \n",
        "            #report loss every few epochs\n",
        "            if verbose: \n",
        "                if t % printfreq == 0: \n",
        "                    print(\"Time: {:.1f} Epoch: {} Train MSE:{:.6e} Weight Decay:{:.6e}\".format(\n",
        "                        time.time()-starttime, \n",
        "                        t,\n",
        "                        trainmse[t],\n",
        "                        weightdecay[t]\n",
        "                    ))\n",
        "\n",
        "        #adjust learning rate\n",
        "        if scheduler is not None:\n",
        "            scheduler.step()\n",
        "\n",
        "        #turn off weight decay for last 100 epochs\n",
        "        if flag is False and t > epochs - no_wd_last_how_many_epochs:\n",
        "            optimizer.param_groups[1]['weight_decay'] = 0\n",
        "            flag = True\n",
        "  \n",
        "    #report loss at end of training\n",
        "    with torch.no_grad():\n",
        "        testmse = loss_fn(model(testX).flatten(),testY).detach().cpu().numpy()\n",
        "        if verbose: \n",
        "            print(\"Time: {:.1f} Test MSE:{:.6e} Train MSE:{:.6e} Weight Decay:{:.6e}\".format(\n",
        "                time.time()-starttime,\n",
        "                testmse,\n",
        "                trainmse[t],\n",
        "                weightdecay[t]\n",
        "            ))\n",
        "\n",
        "    result_dict = {\n",
        "        'model':model,\n",
        "        'trainmse':trainmse,\n",
        "        'weightdecay':weightdecay,\n",
        "        'learningrate':learningrate,\n",
        "        'testmse':testmse\n",
        "    }\n",
        "\n",
        "    return result_dict"
      ]
    },
    {
      "cell_type": "markdown",
      "metadata": {
        "id": "9d-FAmp6oW6K"
      },
      "source": [
        "# training"
      ]
    },
    {
      "cell_type": "markdown",
      "metadata": {
        "id": "EmyNTNv-yk0G"
      },
      "source": [
        "## GPU"
      ]
    },
    {
      "cell_type": "code",
      "execution_count": 9,
      "metadata": {
        "colab": {
          "base_uri": "https://localhost:8080/"
        },
        "id": "Cy0oCIE0owj_",
        "outputId": "1c48811e-bc5f-4ab6-ecda-ca0fb9645be4"
      },
      "outputs": [
        {
          "output_type": "stream",
          "name": "stdout",
          "text": [
            "Thu May 18 17:22:47 2023       \n",
            "+-----------------------------------------------------------------------------+\n",
            "| NVIDIA-SMI 525.85.12    Driver Version: 525.85.12    CUDA Version: 12.0     |\n",
            "|-------------------------------+----------------------+----------------------+\n",
            "| GPU  Name        Persistence-M| Bus-Id        Disp.A | Volatile Uncorr. ECC |\n",
            "| Fan  Temp  Perf  Pwr:Usage/Cap|         Memory-Usage | GPU-Util  Compute M. |\n",
            "|                               |                      |               MIG M. |\n",
            "|===============================+======================+======================|\n",
            "|   0  Tesla T4            Off  | 00000000:00:04.0 Off |                    0 |\n",
            "| N/A   56C    P8     9W /  70W |      0MiB / 15360MiB |      0%      Default |\n",
            "|                               |                      |                  N/A |\n",
            "+-------------------------------+----------------------+----------------------+\n",
            "                                                                               \n",
            "+-----------------------------------------------------------------------------+\n",
            "| Processes:                                                                  |\n",
            "|  GPU   GI   CI        PID   Type   Process name                  GPU Memory |\n",
            "|        ID   ID                                                   Usage      |\n",
            "|=============================================================================|\n",
            "|  No running processes found                                                 |\n",
            "+-----------------------------------------------------------------------------+\n",
            "cuda:0\n"
          ]
        }
      ],
      "source": [
        "# check GPU is enabled\n",
        "gpu_info = !nvidia-smi\n",
        "gpu_info = '\\n'.join(gpu_info)\n",
        "if gpu_info.find('failed') >= 0:\n",
        "  print('Select the Runtime > \"Change runtime type\" menu to enable a GPU accelerator, ')\n",
        "  print('and then re-execute this cell.')\n",
        "else:\n",
        "  print(gpu_info)\n",
        "\n",
        "device = torch.device(\"cuda:0\" if torch.cuda.is_available() else \"cpu\")\n",
        "print(device)"
      ]
    },
    {
      "cell_type": "code",
      "execution_count": 10,
      "metadata": {
        "id": "jFGwYtTQ5M5k"
      },
      "outputs": [],
      "source": [
        "starttime = time.time()"
      ]
    },
    {
      "cell_type": "markdown",
      "metadata": {
        "id": "gBdNPwsJ5NQo"
      },
      "source": [
        "## $r = 1, N = 64$"
      ]
    },
    {
      "cell_type": "markdown",
      "metadata": {
        "id": "Ag_wBnjI5NQp"
      },
      "source": [
        "### training for each value of lambda "
      ]
    },
    {
      "cell_type": "code",
      "execution_count": 11,
      "metadata": {
        "colab": {
          "base_uri": "https://localhost:8080/"
        },
        "id": "HosAZwhu5NQp",
        "outputId": "2fd6c02c-31d2-4d72-d54b-a2eb4b0f0fc8"
      },
      "outputs": [
        {
          "output_type": "stream",
          "name": "stdout",
          "text": [
            "[1.e-05 1.e-04 1.e-03]\n",
            "r = 1, N = 64\n",
            "~~L = 2~~\n",
            "weight decay 1.00e-05, test mse 1.453491e+00 final train mse 2.290854e-12\n",
            "weight decay 1.00e-04, test mse 3.261027e-01 final train mse 3.986837e-10\n",
            "weight decay 1.00e-03, test mse 1.309388e-01 final train mse 3.383872e-06\n",
            "~~L = 4~~\n",
            "weight decay 1.00e-05, test mse 6.426527e-02 final train mse 1.331232e-09\n",
            "weight decay 1.00e-04, test mse 4.587556e-02 final train mse 6.303064e-07\n",
            "weight decay 1.00e-03, test mse 9.159946e-04 final train mse 8.188788e-05\n"
          ]
        }
      ],
      "source": [
        "wds = np.logspace(-5,-3,num=3)\n",
        "print(wds)\n",
        "r = 1\n",
        "datasetsize = 64\n",
        "print(f\"r = {r}, N = {datasetsize}\")\n",
        "res = {}\n",
        "for L in [2,4]:\n",
        "    print(f\"~~L = {L}~~\")\n",
        "    res[L] = {}\n",
        "    for wd in wds:\n",
        "        result = train_L_layers(datasetsize,L,r,weight_decay=wd,epochs=30_100,\n",
        "                                lr=1e-4,scheduler=MultiStepLR,milestones=[30_000], gamma=0.1,verbose=False)\n",
        "        res[L][wd] = result\n",
        "        print(f\"weight decay {wd:.2e}, test mse {result['testmse']:.6e} final train mse {result['trainmse'][-1].item():.6e}\")\n",
        "        "
      ]
    },
    {
      "cell_type": "markdown",
      "metadata": {
        "id": "V8kKAIWwK02x"
      },
      "source": [
        "### saving results"
      ]
    },
    {
      "cell_type": "code",
      "execution_count": 12,
      "metadata": {
        "colab": {
          "base_uri": "https://localhost:8080/"
        },
        "id": "ILv6F-HOKVt7",
        "outputId": "af445af6-f3a0-47c5-a4b7-27f3ccae9b3b"
      },
      "outputs": [
        {
          "output_type": "stream",
          "name": "stdout",
          "text": [
            "trainmse\n",
            "2 1e-05\n",
            "2 0.0001\n",
            "2 0.001\n",
            "4 1e-05\n",
            "4 0.0001\n",
            "4 0.001\n",
            "weightdecay\n",
            "2 1e-05\n",
            "2 0.0001\n",
            "2 0.001\n",
            "4 1e-05\n",
            "4 0.0001\n",
            "4 0.001\n",
            "learningrate\n",
            "2 1e-05\n",
            "2 0.0001\n",
            "2 0.001\n",
            "4 1e-05\n",
            "4 0.0001\n",
            "4 0.001\n",
            "testmse\n",
            "2 1e-05\n",
            "2 0.0001\n",
            "2 0.001\n",
            "4 1e-05\n",
            "4 0.0001\n",
            "4 0.001\n",
            "models\n",
            "2 1e-05\n",
            "2 0.0001\n",
            "2 0.001\n",
            "4 1e-05\n",
            "4 0.0001\n",
            "4 0.001\n"
          ]
        }
      ],
      "source": [
        "path = f\"gdrive/MyDrive/TeacherNetworkResults/\"\n",
        "for value_to_save in ['trainmse','weightdecay','learningrate','testmse']:\n",
        "    print(value_to_save)\n",
        "    value_dict = {L:{} for L in [2,4]}\n",
        "    for L in [2,4]:\n",
        "        for wd in wds:\n",
        "            print(L,wd)\n",
        "            if type(res[L][wd][value_to_save]) == torch.Tensor:\n",
        "                value = res[L][wd][value_to_save].clone().detach().cpu().numpy()\n",
        "            else:\n",
        "                value = res[L][wd][value_to_save].copy()\n",
        "            value_dict[L][wd] = value\n",
        "    np.save(f\"{path}{value_to_save}_r{r}_N{datasetsize}\",value_dict)\n",
        "#save trained models\n",
        "value_dict = {L:{} for L in [2,4]}\n",
        "print('models')\n",
        "for L in [2,4]:\n",
        "    for wd in wds:\n",
        "        print(L,wd)\n",
        "        model = res[L][wd]['model'].cpu()\n",
        "        torch.save(model.state_dict(), f\"{path}model_r{r}_N{datasetsize}_L{L}_wd{wd}\")"
      ]
    },
    {
      "cell_type": "markdown",
      "metadata": {
        "id": "kjaHpx-YK2Vg"
      },
      "source": [
        "### training plots"
      ]
    },
    {
      "cell_type": "code",
      "execution_count": 13,
      "metadata": {
        "colab": {
          "base_uri": "https://localhost:8080/",
          "height": 512
        },
        "id": "tjbVTqqH5NQq",
        "outputId": "b622cf8c-de6f-45ce-e443-ce3c78463cfa"
      },
      "outputs": [
        {
          "output_type": "execute_result",
          "data": {
            "text/plain": [
              "<matplotlib.legend.Legend at 0x7f137749a950>"
            ]
          },
          "metadata": {},
          "execution_count": 13
        },
        {
          "output_type": "display_data",
          "data": {
            "text/plain": [
              "<Figure size 640x480 with 2 Axes>"
            ],
            "image/png": "[encoded data removed]"
          },
          "metadata": {}
        }
      ],
      "source": [
        "optimalL2wd = 1e-3 # CHOOSE MANUALLY\n",
        "optimalL4wd = 1e-3 # CHOOSE MANUALLY\n",
        "alpha = 0.8\n",
        "plt.subplot(121)\n",
        "plt.semilogy(res[2][optimalL2wd]['trainmse'].cpu(),alpha=alpha) \n",
        "plt.semilogy(res[4][optimalL4wd]['trainmse'].cpu(),alpha=alpha)\n",
        "plt.title(\"train mse\")\n",
        "plt.xlabel(\"epochs\")\n",
        "plt.subplot(122)\n",
        "plt.semilogy(res[2][optimalL2wd]['weightdecay'].cpu(),label=rf\"$L = 2,\\lambda = {optimalL2wd}$\",alpha=alpha)\n",
        "plt.semilogy(res[4][optimalL4wd]['weightdecay'].cpu(),label=rf\"$L = 4,\\lambda = {optimalL4wd}$\",alpha=alpha)\n",
        "plt.title('weight decay')\n",
        "plt.ylim(1e2,1e4)\n",
        "plt.xlabel(\"epochs\")\n",
        "plt.suptitle(rf\"$r = {r}, N = {datasetsize}$\")\n",
        "plt.legend()"
      ]
    },
    {
      "cell_type": "markdown",
      "metadata": {
        "id": "Jy2sC9T55QpW"
      },
      "source": [
        "## $r = 2, N = 64$"
      ]
    },
    {
      "cell_type": "markdown",
      "metadata": {
        "id": "VclzNLHf5QpX"
      },
      "source": [
        "### training for each value of lambda "
      ]
    },
    {
      "cell_type": "code",
      "execution_count": 14,
      "metadata": {
        "colab": {
          "base_uri": "https://localhost:8080/"
        },
        "id": "qfvRU-Zy5QpY",
        "outputId": "414daf86-dd1d-49fd-94ef-4520a644772d"
      },
      "outputs": [
        {
          "output_type": "stream",
          "name": "stdout",
          "text": [
            "[1.e-05 1.e-04 1.e-03]\n",
            "r = 2, N = 64\n",
            "~~L = 2~~\n",
            "weight decay 1.00e-05, test mse 1.217336e+01 final train mse 2.071454e-12\n",
            "weight decay 1.00e-04, test mse 1.092172e+01 final train mse 1.620148e-11\n",
            "weight decay 1.00e-03, test mse 1.048271e+01 final train mse 2.694048e-07\n",
            "~~L = 4~~\n",
            "weight decay 1.00e-05, test mse 2.260008e+01 final train mse 2.171108e-11\n",
            "weight decay 1.00e-04, test mse 1.855676e+01 final train mse 6.500329e-09\n",
            "weight decay 1.00e-03, test mse 1.265889e+01 final train mse 4.945031e-07\n"
          ]
        }
      ],
      "source": [
        "wds = np.logspace(-5,-3,num=3)\n",
        "print(wds)\n",
        "r = 2\n",
        "datasetsize = 64\n",
        "print(f\"r = {r}, N = {datasetsize}\")\n",
        "res = {}\n",
        "for L in [2,4]:\n",
        "    print(f\"~~L = {L}~~\")\n",
        "    res[L] = {}\n",
        "    for wd in wds:\n",
        "        result = train_L_layers(datasetsize,L,r,weight_decay=wd,epochs=30_100,\n",
        "                                lr=1e-4,scheduler=MultiStepLR,milestones=[30_000], gamma=0.1,verbose=False)\n",
        "        res[L][wd] = result\n",
        "        print(f\"weight decay {wd:.2e}, test mse {result['testmse']:.6e} final train mse {result['trainmse'][-1].item():.6e}\")\n",
        "        "
      ]
    },
    {
      "cell_type": "markdown",
      "metadata": {
        "id": "7zVTXYnvKXeZ"
      },
      "source": [
        "### saving results"
      ]
    },
    {
      "cell_type": "code",
      "execution_count": 15,
      "metadata": {
        "colab": {
          "base_uri": "https://localhost:8080/"
        },
        "id": "9bbc8DkmKT1E",
        "outputId": "343a7742-2530-4a67-9b7c-7fdf90732f14"
      },
      "outputs": [
        {
          "output_type": "stream",
          "name": "stdout",
          "text": [
            "trainmse\n",
            "2 1e-05\n",
            "2 0.0001\n",
            "2 0.001\n",
            "4 1e-05\n",
            "4 0.0001\n",
            "4 0.001\n",
            "weightdecay\n",
            "2 1e-05\n",
            "2 0.0001\n",
            "2 0.001\n",
            "4 1e-05\n",
            "4 0.0001\n",
            "4 0.001\n",
            "learningrate\n",
            "2 1e-05\n",
            "2 0.0001\n",
            "2 0.001\n",
            "4 1e-05\n",
            "4 0.0001\n",
            "4 0.001\n",
            "testmse\n",
            "2 1e-05\n",
            "2 0.0001\n",
            "2 0.001\n",
            "4 1e-05\n",
            "4 0.0001\n",
            "4 0.001\n",
            "models\n",
            "2 1e-05\n",
            "2 0.0001\n",
            "2 0.001\n",
            "4 1e-05\n",
            "4 0.0001\n",
            "4 0.001\n"
          ]
        }
      ],
      "source": [
        "path = f\"gdrive/MyDrive/TeacherNetworkResults/\"\n",
        "for value_to_save in ['trainmse','weightdecay','learningrate','testmse']:\n",
        "    print(value_to_save)\n",
        "    value_dict = {L:{} for L in [2,4]}\n",
        "    for L in [2,4]:\n",
        "        for wd in wds:\n",
        "            print(L,wd)\n",
        "            if type(res[L][wd][value_to_save]) == torch.Tensor:\n",
        "                value = res[L][wd][value_to_save].clone().detach().cpu().numpy()\n",
        "            else:\n",
        "                value = res[L][wd][value_to_save].copy()\n",
        "            value_dict[L][wd] = value\n",
        "    np.save(f\"{path}{value_to_save}_r{r}_N{datasetsize}\",value_dict)\n",
        "#save trained models\n",
        "value_dict = {L:{} for L in [2,4]}\n",
        "print('models')\n",
        "for L in [2,4]:\n",
        "    for wd in wds:\n",
        "        print(L,wd)\n",
        "        model = res[L][wd]['model'].cpu()\n",
        "        torch.save(model.state_dict(), f\"{path}model_r{r}_N{datasetsize}_L{L}_wd{wd}\")"
      ]
    },
    {
      "cell_type": "markdown",
      "metadata": {
        "id": "eff0gGiSKbFq"
      },
      "source": [
        "### training plots"
      ]
    },
    {
      "cell_type": "code",
      "execution_count": 16,
      "metadata": {
        "colab": {
          "base_uri": "https://localhost:8080/",
          "height": 512
        },
        "id": "IdDbGByI5QpY",
        "outputId": "aeff0dc0-508e-4493-bd50-6a94fbd4bcf4"
      },
      "outputs": [
        {
          "output_type": "execute_result",
          "data": {
            "text/plain": [
              "<matplotlib.legend.Legend at 0x7f137016ad70>"
            ]
          },
          "metadata": {},
          "execution_count": 16
        },
        {
          "output_type": "display_data",
          "data": {
            "text/plain": [
              "<Figure size 640x480 with 2 Axes>"
            ],
            "image/png": "[encoded data removed]"
          },
          "metadata": {}
        }
      ],
      "source": [
        "optimalL2wd = 1e-3 # CHOOSE MANUALLY\n",
        "optimalL4wd = 1e-3 # CHOOSE MANUALLY\n",
        "alpha = 0.8\n",
        "plt.subplot(121)\n",
        "plt.semilogy(res[2][optimalL2wd]['trainmse'].cpu(),alpha=alpha) \n",
        "plt.semilogy(res[4][optimalL4wd]['trainmse'].cpu(),alpha=alpha)\n",
        "plt.title(\"train mse\")\n",
        "plt.xlabel(\"epochs\")\n",
        "plt.subplot(122)\n",
        "plt.semilogy(res[2][optimalL2wd]['weightdecay'].cpu(),label=rf\"$L = 2,\\lambda = {optimalL2wd}$\",alpha=alpha)\n",
        "plt.semilogy(res[4][optimalL4wd]['weightdecay'].cpu(),label=rf\"$L = 4,\\lambda = {optimalL4wd}$\",alpha=alpha)\n",
        "plt.title('weight decay')\n",
        "plt.ylim(1e2,1e4)\n",
        "plt.xlabel(\"epochs\")\n",
        "plt.suptitle(rf\"$r = {r}, N = {datasetsize}$\")\n",
        "plt.legend()"
      ]
    },
    {
      "cell_type": "markdown",
      "metadata": {
        "id": "UMYU83V65PRV"
      },
      "source": [
        "## $r = 2, N = 128$"
      ]
    },
    {
      "cell_type": "markdown",
      "metadata": {
        "id": "Ni5MgbzE5PRW"
      },
      "source": [
        "### training for each value of lambda "
      ]
    },
    {
      "cell_type": "code",
      "execution_count": 17,
      "metadata": {
        "colab": {
          "base_uri": "https://localhost:8080/"
        },
        "id": "9_bhgWac5PRW",
        "outputId": "56ae9b70-c3b5-431c-ba71-0d7220522be2"
      },
      "outputs": [
        {
          "output_type": "stream",
          "name": "stdout",
          "text": [
            "[1.e-05 1.e-04 1.e-03]\n",
            "r = 2, N = 128\n",
            "~~L = 2~~\n",
            "weight decay 1.00e-05, test mse 6.561179e+00 final train mse 2.894903e-11\n",
            "weight decay 1.00e-04, test mse 5.778584e+00 final train mse 3.220493e-08\n",
            "weight decay 1.00e-03, test mse 5.685436e+00 final train mse 7.783952e-05\n",
            "~~L = 4~~\n",
            "weight decay 1.00e-05, test mse 1.068171e+01 final train mse 8.007530e-10\n",
            "weight decay 1.00e-04, test mse 9.417183e+00 final train mse 3.956377e-08\n",
            "weight decay 1.00e-03, test mse 7.891725e+00 final train mse 1.742696e-05\n"
          ]
        }
      ],
      "source": [
        "wds = np.logspace(-5,-3,num=3)\n",
        "print(wds)\n",
        "r = 2\n",
        "datasetsize = 128\n",
        "print(f\"r = {r}, N = {datasetsize}\")\n",
        "res = {}\n",
        "for L in [2,4]:\n",
        "    print(f\"~~L = {L}~~\")\n",
        "    res[L] = {}\n",
        "    for wd in wds:\n",
        "        result = train_L_layers(datasetsize,L,r,weight_decay=wd,epochs=30_100,\n",
        "                                lr=1e-4,scheduler=MultiStepLR,milestones=[30_000], gamma=0.1,verbose=False)\n",
        "        res[L][wd] = result\n",
        "        print(f\"weight decay {wd:.2e}, test mse {result['testmse']:.6e} final train mse {result['trainmse'][-1].item():.6e}\")\n",
        "        "
      ]
    },
    {
      "cell_type": "markdown",
      "metadata": {
        "id": "C9fhRozCKdSz"
      },
      "source": [
        "### saving results"
      ]
    },
    {
      "cell_type": "code",
      "execution_count": 18,
      "metadata": {
        "colab": {
          "base_uri": "https://localhost:8080/"
        },
        "id": "6soyyzMWKR4D",
        "outputId": "a5cfb129-b80a-4f84-ddc3-64d1ea7e5ea0"
      },
      "outputs": [
        {
          "output_type": "stream",
          "name": "stdout",
          "text": [
            "trainmse\n",
            "2 1e-05\n",
            "2 0.0001\n",
            "2 0.001\n",
            "4 1e-05\n",
            "4 0.0001\n",
            "4 0.001\n",
            "weightdecay\n",
            "2 1e-05\n",
            "2 0.0001\n",
            "2 0.001\n",
            "4 1e-05\n",
            "4 0.0001\n",
            "4 0.001\n",
            "learningrate\n",
            "2 1e-05\n",
            "2 0.0001\n",
            "2 0.001\n",
            "4 1e-05\n",
            "4 0.0001\n",
            "4 0.001\n",
            "testmse\n",
            "2 1e-05\n",
            "2 0.0001\n",
            "2 0.001\n",
            "4 1e-05\n",
            "4 0.0001\n",
            "4 0.001\n",
            "models\n",
            "2 1e-05\n",
            "2 0.0001\n",
            "2 0.001\n",
            "4 1e-05\n",
            "4 0.0001\n",
            "4 0.001\n"
          ]
        }
      ],
      "source": [
        "path = f\"gdrive/MyDrive/TeacherNetworkResults/\"\n",
        "for value_to_save in ['trainmse','weightdecay','learningrate','testmse']:\n",
        "    print(value_to_save)\n",
        "    value_dict = {L:{} for L in [2,4]}\n",
        "    for L in [2,4]:\n",
        "        for wd in wds:\n",
        "            print(L,wd)\n",
        "            if type(res[L][wd][value_to_save]) == torch.Tensor:\n",
        "                value = res[L][wd][value_to_save].clone().detach().cpu().numpy()\n",
        "            else:\n",
        "                value = res[L][wd][value_to_save].copy()\n",
        "            value_dict[L][wd] = value\n",
        "    np.save(f\"{path}{value_to_save}_r{r}_N{datasetsize}\",value_dict)\n",
        "#save trained models\n",
        "value_dict = {L:{} for L in [2,4]}\n",
        "print('models')\n",
        "for L in [2,4]:\n",
        "    for wd in wds:\n",
        "        print(L,wd)\n",
        "        model = res[L][wd]['model'].cpu()\n",
        "        torch.save(model.state_dict(), f\"{path}model_r{r}_N{datasetsize}_L{L}_wd{wd}\")"
      ]
    },
    {
      "cell_type": "markdown",
      "metadata": {
        "id": "YuxQa6d0KfeB"
      },
      "source": [
        "### training plots"
      ]
    },
    {
      "cell_type": "code",
      "execution_count": 19,
      "metadata": {
        "colab": {
          "base_uri": "https://localhost:8080/",
          "height": 512
        },
        "id": "BeU6BSsv5PRX",
        "outputId": "b285a1fa-c2bd-413d-d94b-a8241fabc989"
      },
      "outputs": [
        {
          "output_type": "execute_result",
          "data": {
            "text/plain": [
              "<matplotlib.legend.Legend at 0x7f135c1a38e0>"
            ]
          },
          "metadata": {},
          "execution_count": 19
        },
        {
          "output_type": "display_data",
          "data": {
            "text/plain": [
              "<Figure size 640x480 with 2 Axes>"
            ],
            "image/png": "[encoded data removed]"
          },
          "metadata": {}
        }
      ],
      "source": [
        "optimalL2wd = 1e-3 # CHOOSE MANUALLY\n",
        "optimalL4wd = 1e-3 # CHOOSE MANUALLY\n",
        "alpha = 0.8\n",
        "plt.subplot(121)\n",
        "plt.semilogy(res[2][optimalL2wd]['trainmse'].cpu(),alpha=alpha) \n",
        "plt.semilogy(res[4][optimalL4wd]['trainmse'].cpu(),alpha=alpha)\n",
        "plt.title(\"train mse\")\n",
        "plt.xlabel(\"epochs\")\n",
        "plt.subplot(122)\n",
        "plt.semilogy(res[2][optimalL2wd]['weightdecay'].cpu(),label=rf\"$L = 2,\\lambda = {optimalL2wd}$\",alpha=alpha)\n",
        "plt.semilogy(res[4][optimalL4wd]['weightdecay'].cpu(),label=rf\"$L = 4,\\lambda = {optimalL4wd}$\",alpha=alpha)\n",
        "plt.title('weight decay')\n",
        "plt.ylim(1e2,1e4)\n",
        "plt.xlabel(\"epochs\")\n",
        "plt.suptitle(rf\"$r = {r}, N = {datasetsize}$\")\n",
        "plt.legend()"
      ]
    },
    {
      "cell_type": "markdown",
      "metadata": {
        "id": "Zc1A3BCGI9RF"
      },
      "source": [
        "## $r = 2, N = 256$"
      ]
    },
    {
      "cell_type": "markdown",
      "metadata": {
        "id": "dioqdxN7I9RG"
      },
      "source": [
        "### training for each value of lambda "
      ]
    },
    {
      "cell_type": "markdown",
      "metadata": {
        "id": "lU_U8EU1I9RH"
      },
      "source": []
    },
    {
      "cell_type": "code",
      "execution_count": 20,
      "metadata": {
        "id": "x9m3EWFLzYjY",
        "outputId": "6629be28-1e7c-4a8f-c3e7-6df0df08bc88",
        "colab": {
          "base_uri": "https://localhost:8080/"
        }
      },
      "outputs": [
        {
          "output_type": "stream",
          "name": "stdout",
          "text": [
            "[1.e-05 1.e-04 1.e-03]\n",
            "r = 2, N = 256\n",
            "~~L = 2~~\n",
            "weight decay 1.00e-05, test mse 4.805980e+00 final train mse 5.374572e-09\n",
            "weight decay 1.00e-04, test mse 4.153081e+00 final train mse 6.458976e-07\n",
            "weight decay 1.00e-03, test mse 4.056290e+00 final train mse 4.355371e-04\n",
            "~~L = 4~~\n",
            "weight decay 1.00e-05, test mse 3.908140e+00 final train mse 1.668835e-07\n",
            "weight decay 1.00e-04, test mse 2.461235e+00 final train mse 5.769695e-07\n",
            "weight decay 1.00e-03, test mse 2.702621e-02 final train mse 9.971629e-04\n"
          ]
        }
      ],
      "source": [
        "wds = np.logspace(-5,-3,num=3)\n",
        "print(wds)\n",
        "r = 2\n",
        "datasetsize = 256\n",
        "print(f\"r = {r}, N = {datasetsize}\")\n",
        "res = {}\n",
        "for L in [2,4]:\n",
        "    print(f\"~~L = {L}~~\")\n",
        "    res[L] = {}\n",
        "    for wd in wds:\n",
        "        result = train_L_layers(datasetsize,L,r,weight_decay=wd,epochs=30_100,\n",
        "                                lr=1e-4,scheduler=MultiStepLR,milestones=[30_000], gamma=0.1,verbose=False)\n",
        "        res[L][wd] = result\n",
        "        print(f\"weight decay {wd:.2e}, test mse {result['testmse']:.6e} final train mse {result['trainmse'][-1].item():.6e}\")\n",
        "        "
      ]
    },
    {
      "cell_type": "markdown",
      "metadata": {
        "id": "p2qCOURrKqj3"
      },
      "source": [
        "### saving results"
      ]
    },
    {
      "cell_type": "code",
      "execution_count": 21,
      "metadata": {
        "id": "CtsHNYFuFiF4",
        "colab": {
          "base_uri": "https://localhost:8080/"
        },
        "outputId": "bbd570b6-d751-4690-abce-28d6762abb91"
      },
      "outputs": [
        {
          "output_type": "stream",
          "name": "stdout",
          "text": [
            "trainmse\n",
            "2 1e-05\n",
            "2 0.0001\n",
            "2 0.001\n",
            "4 1e-05\n",
            "4 0.0001\n",
            "4 0.001\n",
            "weightdecay\n",
            "2 1e-05\n",
            "2 0.0001\n",
            "2 0.001\n",
            "4 1e-05\n",
            "4 0.0001\n",
            "4 0.001\n",
            "learningrate\n",
            "2 1e-05\n",
            "2 0.0001\n",
            "2 0.001\n",
            "4 1e-05\n",
            "4 0.0001\n",
            "4 0.001\n",
            "testmse\n",
            "2 1e-05\n",
            "2 0.0001\n",
            "2 0.001\n",
            "4 1e-05\n",
            "4 0.0001\n",
            "4 0.001\n",
            "models\n",
            "2 1e-05\n",
            "2 0.0001\n",
            "2 0.001\n",
            "4 1e-05\n",
            "4 0.0001\n",
            "4 0.001\n"
          ]
        }
      ],
      "source": [
        "path = f\"gdrive/MyDrive/TeacherNetworkResults/\"\n",
        "for value_to_save in ['trainmse','weightdecay','learningrate','testmse']:\n",
        "    print(value_to_save)\n",
        "    value_dict = {L:{} for L in [2,4]}\n",
        "    for L in [2,4]:\n",
        "        for wd in wds:\n",
        "            print(L,wd)\n",
        "            if type(res[L][wd][value_to_save]) == torch.Tensor:\n",
        "                value = res[L][wd][value_to_save].clone().detach().cpu().numpy()\n",
        "            else:\n",
        "                value = res[L][wd][value_to_save].copy()\n",
        "            value_dict[L][wd] = value\n",
        "    np.save(f\"{path}{value_to_save}_r{r}_N{datasetsize}\",value_dict)\n",
        "#save trained models\n",
        "value_dict = {L:{} for L in [2,4]}\n",
        "print('models')\n",
        "for L in [2,4]:\n",
        "    for wd in wds:\n",
        "        print(L,wd)\n",
        "        model = res[L][wd]['model'].cpu()\n",
        "        torch.save(model.state_dict(), f\"{path}model_r{r}_N{datasetsize}_L{L}_wd{wd}\")"
      ]
    },
    {
      "cell_type": "markdown",
      "metadata": {
        "id": "8Str2MIHKtBE"
      },
      "source": [
        "### training plots"
      ]
    },
    {
      "cell_type": "code",
      "execution_count": 22,
      "metadata": {
        "id": "iNsIy466I9RI",
        "colab": {
          "base_uri": "https://localhost:8080/",
          "height": 512
        },
        "outputId": "c29addf6-c882-4c92-dd9e-e7e97b9b6c8d"
      },
      "outputs": [
        {
          "output_type": "execute_result",
          "data": {
            "text/plain": [
              "<matplotlib.legend.Legend at 0x7f135c3462c0>"
            ]
          },
          "metadata": {},
          "execution_count": 22
        },
        {
          "output_type": "display_data",
          "data": {
            "text/plain": [
              "<Figure size 640x480 with 2 Axes>"
            ],
            "image/png": "[encoded data removed]"
          },
          "metadata": {}
        }
      ],
      "source": [
        "optimalL2wd = 1e-3 # CHOOSE MANUALLY\n",
        "optimalL4wd = 1e-3 # CHOOSE MANUALLY\n",
        "alpha = 0.8\n",
        "plt.subplot(121)\n",
        "plt.semilogy(res[2][optimalL2wd]['trainmse'].cpu(),alpha=alpha) \n",
        "plt.semilogy(res[4][optimalL4wd]['trainmse'].cpu(),alpha=alpha)\n",
        "plt.title(\"train mse\")\n",
        "plt.xlabel(\"epochs\")\n",
        "plt.subplot(122)\n",
        "plt.semilogy(res[2][optimalL2wd]['weightdecay'].cpu(),label=rf\"$L = 2,\\lambda = {optimalL2wd}$\",alpha=alpha)\n",
        "plt.semilogy(res[4][optimalL4wd]['weightdecay'].cpu(),label=rf\"$L = 4,\\lambda = {optimalL4wd}$\",alpha=alpha)\n",
        "plt.title('weight decay')\n",
        "plt.ylim(1e2,1e4)\n",
        "plt.xlabel(\"epochs\")\n",
        "plt.suptitle(rf\"$r = {r}, N = {datasetsize}$\")\n",
        "plt.legend()"
      ]
    },
    {
      "cell_type": "code",
      "execution_count": 23,
      "metadata": {
        "id": "VdCV1GSzk5bn",
        "colab": {
          "base_uri": "https://localhost:8080/"
        },
        "outputId": "6ab8f509-8852-4762-dd3f-ac6be1178716"
      },
      "outputs": [
        {
          "output_type": "execute_result",
          "data": {
            "text/plain": [
              "3717.7098817825317"
            ]
          },
          "metadata": {},
          "execution_count": 23
        }
      ],
      "source": [
        "endtime = time.time() - starttime\n",
        "endtime"
      ]
    }
  ],
  "metadata": {
    "accelerator": "GPU",
    "colab": {
      "collapsed_sections": [
        "7zVTXYnvKXeZ"
      ],
      "machine_shape": "hm",
      "toc_visible": true,
      "provenance": [],
      "gpuType": "T4"
    },
    "gpuClass": "standard",
    "kernelspec": {
      "display_name": "Python 3",
      "name": "python3"
    },
    "language_info": {
      "name": "python"
    }
  },
  "nbformat": 4,
  "nbformat_minor": 0
}